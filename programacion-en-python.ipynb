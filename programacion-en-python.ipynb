{
 "cells": [
  {
   "cell_type": "markdown",
   "metadata": {},
   "source": [
    "**Recuerde no agregar o quitar celdas en este notebook, ni modificar su tipo. Si lo hace, el sistema automaticamente lo calificará con cero punto cero (0.0)**"
   ]
  },
  {
   "cell_type": "markdown",
   "metadata": {},
   "source": [
    "# LAB: Programación en Python"
   ]
  },
  {
   "cell_type": "markdown",
   "metadata": {},
   "source": [
    "Para realizar este laborartorio, genere un archivo con el código presentado a continuación."
   ]
  },
  {
   "cell_type": "code",
   "execution_count": 36,
   "metadata": {},
   "outputs": [
    {
     "name": "stdout",
     "output_type": "stream",
     "text": [
      "Overwriting data.txt\n"
     ]
    }
   ],
   "source": [
    "%%writefile data.txt\n",
    "E\t1\t1999-08-28\tb,g,f\tjjj:3,bbb:0,ddd:9,ggg:8,hhh:2\n",
    "A\t2\t1999-08-28\ta,f,c\tccc:2,ddd:0,aaa:3,hhh:9\n",
    "B\t5\t1998-08-28\tf,e,a,c\tddd:2,ggg:5,ccc:6,jjj:1\n",
    "A\t3\t1999-08-28\ta,b\thhh:9,iii:5,eee:7,bbb:1\n",
    "C\t6\t1999-08-28\tf,g,d,a\tiii:6,ddd:5,eee:4,jjj:3\n",
    "A\t7\t1998-08-28\tc,d\tbbb:2,hhh:0,ccc:4,fff:1,aaa:7\n",
    "A\t9\t1997-08-28\tg,d,a\taaa:5,fff:8,ddd:2,iii:0,jjj:7,ccc:1\n",
    "B\t1\t1999-08-28\tb,a\tfff:3,hhh:1,ddd:2\n",
    "E\t2\t1997-08-28\td,e,a,f\teee:4,ccc:5,iii:9,fff:7,ggg:6,bbb:0\n",
    "B\t3\t1999-08-28\td,b,g,f\tbbb:7,jjj:9,fff:5,iii:4,ggg:2,eee:3\n",
    "C\t7\t1998-08-28\td,c,f,b\thhh:6,eee:4,iii:0,fff:2,jjj:1\n",
    "C\t5\t1998-08-28\td,e,a,c\tbbb:7,iii:6,ggg:9\n",
    "D\t3\t1999-08-28\tg,e,f,b\tbbb:9,aaa:3,ccc:6,fff:4,eee:2\n",
    "E\t8\t1998-08-28\tc,f\taaa:8,ddd:5,jjj:1\n",
    "B\t9\t1999-08-28\td,b\tccc:0,jjj:6,fff:7,ddd:3,aaa:2\n",
    "D\t1\t1997-08-28\tf,e\tccc:0,eee:6,bbb:9,ddd:3\n",
    "E\t3\t1997-08-28\te,b,f\tbbb:6,iii:3,hhh:5,fff:4,ggg:9,ddd:2\n",
    "D\t5\t1998-08-28\tg,a\thhh:4,jjj:5,ccc:9\n",
    "E\t8\t1999-08-28\te,c,f,a\tccc:1,iii:6,fff:9\n",
    "E\t9\t1998-08-28\te,a\tbbb:9,aaa:3,fff:1\n",
    "E\t7\t1999-08-28\te,f\tddd:9,iii:2,aaa:4\n",
    "E\t3\t1999-08-28\tc,b,g\tccc:5,fff:8,iii:7\n",
    "D\t5\t1999-08-28\tc,f,a\teee:3,jjj:2,ddd:7\n",
    "A\t1\t1999-08-28\tf,a,d\tjjj:1,ggg:0,ccc:7,ddd:9,bbb:3\n",
    "E\t4\t1997-08-28\tc,d\tjjj:6,ccc:0,aaa:1,hhh:9,iii:7,ggg:8\n",
    "E\t6\t1997-08-28\te,d,c\tfff:3,eee:6,iii:4,bbb:7,ddd:0,ccc:1\n",
    "A\t8\t1997-08-28\ta,e,f\tfff:0,ddd:5,ccc:4\n",
    "E\t5\t1999-08-28\tc,a,g\tggg:6,hhh:3,ddd:9,ccc:0,jjj:7\n",
    "A\t6\t1999-08-28\tf,e\thhh:6,jjj:0,eee:5,iii:7,ccc:3\n",
    "C\t0\t1999-08-28\tf,c,a,g\teee:1,fff:4,aaa:2,ccc:7,ggg:0,ddd:6\n",
    "A\t1\t1998-08-28\tb,f\tccc:6,aaa:9,eee:5,ddd:0,bbb:3\n",
    "D\t2\t1998-08-28\tb,f\tbbb:7,hhh:1,aaa:6,iii:4,fff:9,ddd:5\n",
    "E\t5\t1999-08-28\ta,c\tfff:3,ccc:1,ggg:2,eee:5\n",
    "B\t4\t1998-08-28\tb,f,c\tiii:7,ggg:3,ddd:0,jjj:8,hhh:5,ccc:1\n",
    "B\t6\t1999-08-28\tf,a,e\thhh:6,ccc:3,jjj:0,bbb:8,ddd:7\n",
    "D\t7\t1999-08-28\ta,f\taaa:0,fff:5,ddd:3\n",
    "B\t8\t1997-08-28\tc,a\tddd:5,jjj:2,iii:7,ccc:0,bbb:4\n",
    "C\t9\t1997-08-28\tc,a,e,f\teee:0,fff:2,hhh:6\n",
    "E\t1\t1999-08-28\te,d\tfff:9,iii:2,eee:0\n",
    "E\t5\t1998-08-28\tf,a,d\thhh:8,ggg:3,jjj:5"
   ]
  },
  {
   "cell_type": "markdown",
   "metadata": {},
   "source": [
    "Resuelva los siguientes problemas."
   ]
  },
  {
   "cell_type": "markdown",
   "metadata": {},
   "source": [
    "## Problema 1\n",
    "\n",
    "Compute la suma de la segunda columna."
   ]
  },
  {
   "cell_type": "code",
   "execution_count": 44,
   "metadata": {},
   "outputs": [
    {
     "data": {
      "text/plain": [
       "190"
      ]
     },
     "execution_count": 44,
     "metadata": {},
     "output_type": "execute_result"
    }
   ],
   "source": [
    "import re\n",
    "ListaDeArchivos = []\n",
    "Archivo = open('data.txt', 'r')\n",
    "PatronDeRemplazoValoresConComa = re.compile(r'(\\d),')\n",
    "ArchivoEnMemoria = (Archivo.readlines())\n",
    "Archivo.close()\n",
    "ArchivoEnMemoria = [linea.replace(\"\\t\", \" \") for linea in ArchivoEnMemoria]\n",
    "ArchivoEnMemoria = [linea.replace(\":\", \" \") for linea in ArchivoEnMemoria]\n",
    "ArchivoEnMemoria = [linea[:-1] for linea in ArchivoEnMemoria]\n",
    "ArchivoEnMemoria = [PatronDeRemplazoValoresConComa.sub(r\"\\1 \", linea) for linea in ArchivoEnMemoria]\n",
    "ArchivoEnMemoria = [linea.split(' ') for linea  in ArchivoEnMemoria]\n",
    "suma = 0\n",
    "for line in ArchivoEnMemoria:\n",
    "        suma += int(line[1])\n",
    "suma"
   ]
  },
  {
   "cell_type": "markdown",
   "metadata": {},
   "source": [
    "## Problema 2\n",
    "\n",
    "Calcule la cantidad de registros por letra para la columna 1."
   ]
  },
  {
   "cell_type": "code",
   "execution_count": 58,
   "metadata": {},
   "outputs": [
    {
     "data": {
      "text/plain": [
       "[['E', 14], ['D', 6], ['A', 8], ['B', 7], ['C', 5]]"
      ]
     },
     "execution_count": 58,
     "metadata": {},
     "output_type": "execute_result"
    }
   ],
   "source": [
    "import re\n",
    "ListaDeArchivos = []\n",
    "Archivo = open('data.txt', 'r')\n",
    "PatronDeRemplazoValoresConComa = re.compile(r'(\\d),')\n",
    "ArchivoEnMemoria = (Archivo.readlines())\n",
    "Archivo.close()\n",
    "ArchivoEnMemoria = [linea.replace(\"\\t\", \" \") for linea in ArchivoEnMemoria]\n",
    "ArchivoEnMemoria = [linea.replace(\":\", \" \") for linea in ArchivoEnMemoria]\n",
    "ArchivoEnMemoria = [linea[:-1] for linea in ArchivoEnMemoria]\n",
    "ArchivoEnMemoria = [PatronDeRemplazoValoresConComa.sub(r\"\\1 \", linea) for linea in ArchivoEnMemoria]\n",
    "ArchivoEnMemoria = [linea.split(' ') for linea  in ArchivoEnMemoria]\n",
    "Letras = [Registro[0] for Registro in ArchivoEnMemoria]\n",
    "LetrasUnicas = set([Registro[0] for Registro in ArchivoEnMemoria]) \n",
    "Resultado = [[Letra,Letras.count(Letra)] for Letra in LetrasUnicas]\n",
    "Resultado"
   ]
  },
  {
   "cell_type": "markdown",
   "metadata": {},
   "source": [
    "## Problema 3\n",
    "\n",
    "Calcule la cantidad de registros por mes."
   ]
  },
  {
   "cell_type": "code",
   "execution_count": 70,
   "metadata": {},
   "outputs": [
    {
     "data": {
      "text/plain": [
       "[['08', 40]]"
      ]
     },
     "execution_count": 70,
     "metadata": {},
     "output_type": "execute_result"
    }
   ],
   "source": [
    "import re\n",
    "ListaDeArchivos = []\n",
    "Archivo = open('data.txt', 'r')\n",
    "PatronDeRemplazoValoresConComa = re.compile(r'(\\d),')\n",
    "ArchivoEnMemoria = (Archivo.readlines())\n",
    "Archivo.close()\n",
    "ArchivoEnMemoria = [linea.replace(\"\\t\", \" \") for linea in ArchivoEnMemoria]\n",
    "ArchivoEnMemoria = [linea.replace(\":\", \" \") for linea in ArchivoEnMemoria]\n",
    "ArchivoEnMemoria = [linea[:-1] for linea in ArchivoEnMemoria]\n",
    "ArchivoEnMemoria = [PatronDeRemplazoValoresConComa.sub(r\"\\1 \", linea) for linea in ArchivoEnMemoria]\n",
    "ArchivoEnMemoria = [linea.split(' ') for linea  in ArchivoEnMemoria]\n",
    "Meses = [ (re.search('-(\\d\\d)-', Registro[2])).group(1) for Registro in ArchivoEnMemoria]\n",
    "MesesUnicos = set(Registro for Registro in Meses) \n",
    "Resultado = [[Mes,Meses.count(Mes)] for Mes in MesesUnicos]\n",
    "Resultado"
   ]
  },
  {
   "cell_type": "markdown",
   "metadata": {},
   "source": [
    "## Problema 4\n",
    "\n",
    "Construya una lista de tuplas que contengan la letra de la primera columna, el valor máximo de la columna 2 por letra, el valor mínimo de la columna 2 por letra."
   ]
  },
  {
   "cell_type": "code",
   "execution_count": 1,
   "metadata": {},
   "outputs": [
    {
     "data": {
      "text/plain": [
       "[('D', '7', '1'),\n",
       " ('B', '9', '1'),\n",
       " ('E', '9', '1'),\n",
       " ('A', '9', '1'),\n",
       " ('C', '9', '0')]"
      ]
     },
     "execution_count": 1,
     "metadata": {},
     "output_type": "execute_result"
    }
   ],
   "source": [
    "import re\n",
    "ListaDeArchivos = []\n",
    "Archivo = open('data.txt', 'r')\n",
    "PatronDeRemplazoValoresConComa = re.compile(r'(\\d),')\n",
    "ArchivoEnMemoria = (Archivo.readlines())\n",
    "Archivo.close()\n",
    "ArchivoEnMemoria = [linea.replace(\"\\t\", \" \") for linea in ArchivoEnMemoria]\n",
    "ArchivoEnMemoria = [linea.replace(\":\", \" \") for linea in ArchivoEnMemoria]\n",
    "ArchivoEnMemoria = [linea[:-1] for linea in ArchivoEnMemoria]\n",
    "ArchivoEnMemoria = [PatronDeRemplazoValoresConComa.sub(r\"\\1 \", linea) for linea in ArchivoEnMemoria]\n",
    "ArchivoEnMemoria = [linea.split(' ') for linea  in ArchivoEnMemoria]\n",
    "Letras = [Registro[0] for Registro in ArchivoEnMemoria]\n",
    "LetrasUnicas = set([Registro[0] for Registro in ArchivoEnMemoria]) \n",
    "ListaDeValoresPorLetra = {Letra:[] for Letra in LetrasUnicas}\n",
    "for Fila in ArchivoEnMemoria:\n",
    "    ListaDeValoresPorLetra.get(Fila[0], \"\").append(Fila[1])\n",
    "Resultado = [(key,max(ListaDeValoresPorLetra[key]),min(ListaDeValoresPorLetra[key]))for key  in ListaDeValoresPorLetra]\n",
    "Resultado"
   ]
  },
  {
   "cell_type": "markdown",
   "metadata": {},
   "source": [
    "## Problema 5\n",
    "\n",
    "Ordene el archivo por letra (columna 1), valor (columna 2) y fecha (columna 3)."
   ]
  },
  {
   "cell_type": "code",
   "execution_count": 43,
   "metadata": {},
   "outputs": [
    {
     "name": "stdout",
     "output_type": "stream",
     "text": [
      "A\t1\t1998-08-28\tb,f\tccc:6,aaa:9,eee:5,ddd:0,bbb:3\n",
      "A\t1\t1999-08-28\tf,a,d\tjjj:1,ggg:0,ccc:7,ddd:9,bbb:3\n",
      "A\t2\t1999-08-28\ta,f,c\tccc:2,ddd:0,aaa:3,hhh:9\n",
      "A\t3\t1999-08-28\ta,b\thhh:9,iii:5,eee:7,bbb:1\n",
      "A\t6\t1999-08-28\tf,e\thhh:6,jjj:0,eee:5,iii:7,ccc:3\n",
      "A\t7\t1998-08-28\tc,d\tbbb:2,hhh:0,ccc:4,fff:1,aaa:7\n",
      "A\t8\t1997-08-28\ta,e,f\tfff:0,ddd:5,ccc:4\n",
      "A\t9\t1997-08-28\tg,d,a\taaa:5,fff:8,ddd:2,iii:0,jjj:7,ccc:1\n",
      "B\t1\t1999-08-28\tb,a\tfff:3,hhh:1,ddd:2\n",
      "B\t3\t1999-08-28\td,b,g,f\tbbb:7,jjj:9,fff:5,iii:4,ggg:2,eee:3\n",
      "B\t4\t1998-08-28\tb,f,c\tiii:7,ggg:3,ddd:0,jjj:8,hhh:5,ccc:1\n",
      "B\t5\t1998-08-28\tf,e,a,c\tddd:2,ggg:5,ccc:6,jjj:1\n",
      "B\t6\t1999-08-28\tf,a,e\thhh:6,ccc:3,jjj:0,bbb:8,ddd:7\n",
      "B\t8\t1997-08-28\tc,a\tddd:5,jjj:2,iii:7,ccc:0,bbb:4\n",
      "B\t9\t1999-08-28\td,b\tccc:0,jjj:6,fff:7,ddd:3,aaa:2\n",
      "C\t0\t1999-08-28\tf,c,a,g\teee:1,fff:4,aaa:2,ccc:7,ggg:0,ddd:6\n",
      "C\t5\t1998-08-28\td,e,a,c\tbbb:7,iii:6,ggg:9\n",
      "C\t6\t1999-08-28\tf,g,d,a\tiii:6,ddd:5,eee:4,jjj:3\n",
      "C\t7\t1998-08-28\td,c,f,b\thhh:6,eee:4,iii:0,fff:2,jjj:1\n",
      "C\t9\t1997-08-28\tc,a,e,f\teee:0,fff:2,hhh:6\n",
      "D\t1\t1997-08-28\tf,e\tccc:0,eee:6,bbb:9,ddd:3\n",
      "D\t2\t1998-08-28\tb,f\tbbb:7,hhh:1,aaa:6,iii:4,fff:9,ddd:5\n",
      "D\t3\t1999-08-28\tg,e,f,b\tbbb:9,aaa:3,ccc:6,fff:4,eee:2\n",
      "D\t5\t1998-08-28\tg,a\thhh:4,jjj:5,ccc:9\n",
      "D\t5\t1999-08-28\tc,f,a\teee:3,jjj:2,ddd:7\n",
      "D\t7\t1999-08-28\ta,f\taaa:0,fff:5,ddd:3\n",
      "E\t1\t1999-08-28\tb,g,f\tjjj:3,bbb:0,ddd:9,ggg:8,hhh:2\n",
      "E\t1\t1999-08-28\te,d\tfff:9,iii:2,eee:0\n",
      "E\t2\t1997-08-28\td,e,a,f\teee:4,ccc:5,iii:9,fff:7,ggg:6,bbb:0\n",
      "E\t3\t1997-08-28\te,b,f\tbbb:6,iii:3,hhh:5,fff:4,ggg:9,ddd:2\n",
      "E\t3\t1999-08-28\tc,b,g\tccc:5,fff:8,iii:7\n",
      "E\t4\t1997-08-28\tc,d\tjjj:6,ccc:0,aaa:1,hhh:9,iii:7,ggg:8\n",
      "E\t5\t1998-08-28\tf,a,d\thhh:8,ggg:3,jjj:5\n",
      "E\t5\t1999-08-28\tc,a,g\tggg:6,hhh:3,ddd:9,ccc:0,jjj:7\n",
      "E\t5\t1999-08-28\ta,c\tfff:3,ccc:1,ggg:2,eee:5\n",
      "E\t6\t1997-08-28\te,d,c\tfff:3,eee:6,iii:4,bbb:7,ddd:0,ccc:1\n",
      "E\t7\t1999-08-28\te,f\tddd:9,iii:2,aaa:4\n",
      "E\t8\t1998-08-28\tc,f\taaa:8,ddd:5,jjj:1\n",
      "E\t8\t1999-08-28\te,c,f,a\tccc:1,iii:6,fff:9\n",
      "E\t9\t1998-08-28\te,a\tbbb:9,aaa:3,fff:1\n",
      "\n"
     ]
    }
   ],
   "source": [
    "import operator\n",
    "ListaDeArchivos = []\n",
    "Archivo = open('data.txt', 'r')\n",
    "ArchivoEnMemoria = (Archivo.readlines())\n",
    "Archivo.close()\n",
    "ArchivoEnMemoria = [linea.replace(\"\\t\", \"/\") for linea in ArchivoEnMemoria]\n",
    "ArchivoEnMemoria = [linea.split('/') for linea  in ArchivoEnMemoria]\n",
    "ArchivoEnMemoria = sorted(ArchivoEnMemoria, key = operator.itemgetter(0, 1, 2))\n",
    "ArchivoEnMemoria = ['#'.join(line) for line in ArchivoEnMemoria]\n",
    "ArchivoEnMemoria = [line.replace('#', '\\t') for line in ArchivoEnMemoria]\n",
    "ArchivoEnMemoria = \"\".join(ArchivoEnMemoria)\n",
    "print(ArchivoEnMemoria)"
   ]
  },
  {
   "cell_type": "markdown",
   "metadata": {},
   "source": [
    "## Problema 6\n",
    "\n",
    "Obtenga los 10 registros con valores más pequeños en la columna 2."
   ]
  },
  {
   "cell_type": "code",
   "execution_count": 45,
   "metadata": {},
   "outputs": [
    {
     "name": "stdout",
     "output_type": "stream",
     "text": [
      "C\t0\t1999-08-28\tf,c,a,g\teee:1,fff:4,aaa:2,ccc:7,ggg:0,ddd:6\n",
      "E\t1\t1999-08-28\tb,g,f\tjjj:3,bbb:0,ddd:9,ggg:8,hhh:2\n",
      "B\t1\t1999-08-28\tb,a\tfff:3,hhh:1,ddd:2\n",
      "D\t1\t1997-08-28\tf,e\tccc:0,eee:6,bbb:9,ddd:3\n",
      "A\t1\t1999-08-28\tf,a,d\tjjj:1,ggg:0,ccc:7,ddd:9,bbb:3\n",
      "A\t1\t1998-08-28\tb,f\tccc:6,aaa:9,eee:5,ddd:0,bbb:3\n",
      "E\t1\t1999-08-28\te,d\tfff:9,iii:2,eee:0\n",
      "A\t2\t1999-08-28\ta,f,c\tccc:2,ddd:0,aaa:3,hhh:9\n",
      "E\t2\t1997-08-28\td,e,a,f\teee:4,ccc:5,iii:9,fff:7,ggg:6,bbb:0\n",
      "D\t2\t1998-08-28\tb,f\tbbb:7,hhh:1,aaa:6,iii:4,fff:9,ddd:5\n",
      "\n"
     ]
    }
   ],
   "source": [
    "import operator\n",
    "ListaDeArchivos = []\n",
    "Archivo = open('data.txt', 'r')\n",
    "ArchivoEnMemoria = (Archivo.readlines())\n",
    "Archivo.close()\n",
    "ArchivoEnMemoria = [linea.replace(\"\\t\", \"/\") for linea in ArchivoEnMemoria]\n",
    "ArchivoEnMemoria = [linea.split('/') for linea  in ArchivoEnMemoria]\n",
    "ArchivoEnMemoria = sorted(ArchivoEnMemoria, key = operator.itemgetter(1))\n",
    "ArchivoEnMemoria = ArchivoEnMemoria[:10]\n",
    "ArchivoEnMemoria = ['#'.join(line) for line in ArchivoEnMemoria]\n",
    "ArchivoEnMemoria = [line.replace('#', '\\t') for line in ArchivoEnMemoria]\n",
    "ArchivoEnMemoria = \"\".join(ArchivoEnMemoria)\n",
    "print(ArchivoEnMemoria)"
   ]
  },
  {
   "cell_type": "markdown",
   "metadata": {},
   "source": [
    "## Problema 7\n",
    "\n",
    "Para cada clave de la columna 5 (cadena de tres letras), obtenga el valor más pequeño y el valor más grande asociado a dicha clave."
   ]
  },
  {
   "cell_type": "code",
   "execution_count": 69,
   "metadata": {},
   "outputs": [
    {
     "data": {
      "text/plain": [
       "[('iii', '0', '8'),\n",
       " ('ccc', '0', '9'),\n",
       " ('eee', '0', '9'),\n",
       " ('fff', '0', '9'),\n",
       " ('jjj', '0', '9'),\n",
       " ('bbb', '0', '9'),\n",
       " ('ddd', '0', '9'),\n",
       " ('hhh', '0', '9'),\n",
       " ('aaa', '0', '9'),\n",
       " ('ggg', '0', '9')]"
      ]
     },
     "execution_count": 69,
     "metadata": {},
     "output_type": "execute_result"
    }
   ],
   "source": [
    "import re\n",
    "ListaDeArchivos = []\n",
    "Archivo = open('data.txt', 'r')\n",
    "PatronDeRemplazoValoresConComa = re.compile(r'(\\d),')\n",
    "ArchivoEnMemoria = (Archivo.readlines())\n",
    "Archivo.close()\n",
    "ArchivoEnMemoria = [linea.replace(\"\\t\", \" \") for linea in ArchivoEnMemoria]\n",
    "ArchivoEnMemoria = [linea.replace(\":\", \" \") for linea in ArchivoEnMemoria]\n",
    "ArchivoEnMemoria = [linea[:-1] for linea in ArchivoEnMemoria]\n",
    "ArchivoEnMemoria = [PatronDeRemplazoValoresConComa.sub(r\"\\1 \", linea) for linea in ArchivoEnMemoria]\n",
    "ArchivoEnMemoria = [linea.split(' ') for linea  in ArchivoEnMemoria]\n",
    "CadenasTresLetras = [ (Registro[4]) for Registro in ArchivoEnMemoria]\n",
    "LetrasUnicas = set(Registro for Registro in CadenasTresLetras) \n",
    "ListaDeValoresPorLetra = {Letra:[] for Letra in LetrasUnicas}\n",
    "for Fila in ArchivoEnMemoria:\n",
    "    for ElmentoDeFila in Fila:\n",
    "        if  ElmentoDeFila.isdigit():\n",
    "            ListaDeValoresPorLetra.get(Fila[4], \"\").append(ElmentoDeFila)\n",
    "Resultado = [(key,min(ListaDeValoresPorLetra[key]),max(ListaDeValoresPorLetra[key]))for key  in ListaDeValoresPorLetra]\n",
    "Resultado"
   ]
  },
  {
   "cell_type": "markdown",
   "metadata": {},
   "source": [
    "## Problema 8\n",
    "\n",
    "Genere una lista de tuplas, donde cada tupla contiene en la primera posición, el valor de la segunda columna; la segunda parte de la tupla es una lista con las letras de la primera columna que aparecen asociadas a dicho valor de la segunda columna. Esto es: \n",
    "\n",
    "\n",
    "     ('1', ['E', 'B', 'D', 'A', 'A', 'E']),\n",
    "     ('9', ['A', 'B', 'E', 'C']),\n",
    "     ('8', ['E', 'E', 'A', 'B']),\n",
    "     ('4', ['E', 'B']),\n",
    "     ('0', ['C']),\n",
    "     ('2', ['A', 'E', 'D']),\n",
    "     ('5', ['B', 'C', 'D', 'D', 'E', 'E', 'E']),\n",
    "     ('3', ['A', 'B', 'D', 'E', 'E']),\n",
    "     ('6', ['C', 'E', 'A', 'B']),\n",
    "     ('7', ['A', 'C', 'E', 'D'])]"
   ]
  },
  {
   "cell_type": "code",
   "execution_count": 89,
   "metadata": {},
   "outputs": [
    {
     "data": {
      "text/plain": [
       "[('0', ['C']),\n",
       " ('1', ['E', 'B', 'D', 'A', 'A', 'E']),\n",
       " ('2', ['A', 'E', 'D']),\n",
       " ('3', ['A', 'B', 'D', 'E', 'E']),\n",
       " ('4', ['E', 'B']),\n",
       " ('5', ['B', 'C', 'D', 'D', 'E', 'E', 'E']),\n",
       " ('6', ['C', 'E', 'A', 'B']),\n",
       " ('7', ['A', 'C', 'E', 'D']),\n",
       " ('8', ['E', 'E', 'A', 'B']),\n",
       " ('9', ['A', 'B', 'E', 'C'])]"
      ]
     },
     "execution_count": 89,
     "metadata": {},
     "output_type": "execute_result"
    }
   ],
   "source": [
    "import re\n",
    "ListaDeArchivos = []\n",
    "Archivo = open('data.txt', 'r')\n",
    "PatronDeRemplazoValoresConComa = re.compile(r'(\\d),')\n",
    "ArchivoEnMemoria = (Archivo.readlines())\n",
    "Archivo.close()\n",
    "ArchivoEnMemoria = [linea.replace(\"\\t\", \" \") for linea in ArchivoEnMemoria]\n",
    "ArchivoEnMemoria = [linea.replace(\":\", \" \") for linea in ArchivoEnMemoria]\n",
    "ArchivoEnMemoria = [linea[:-1] for linea in ArchivoEnMemoria]\n",
    "ArchivoEnMemoria = [PatronDeRemplazoValoresConComa.sub(r\"\\1 \", linea) for linea in ArchivoEnMemoria]\n",
    "ArchivoEnMemoria = [linea.split(' ') for linea  in ArchivoEnMemoria]\n",
    "ValorSegundaColumna = [Registro[1] for Registro in ArchivoEnMemoria]\n",
    "ValoresUnicos = set([Registro for Registro in ValorSegundaColumna]) \n",
    "ListaDeValoresPorRegistro = {Valor:[] for Valor in ValoresUnicos}\n",
    "for Fila in ArchivoEnMemoria:\n",
    "    ListaDeValoresPorRegistro.get(Fila[1], \"\").append(Fila[0])\n",
    "Resultado = [(key,ListaDeValoresPorRegistro[key])for key  in ListaDeValoresPorRegistro]\n",
    "Resultado =  sorted(Resultado, key = operator.itemgetter(0))\n",
    "Resultado"
   ]
  },
  {
   "cell_type": "markdown",
   "metadata": {},
   "source": [
    "## Problema 9\n",
    "\n",
    "Ordene la lista de tuplas del problema anterior y la lista de letras de la segunda parte de la tupla."
   ]
  },
  {
   "cell_type": "code",
   "execution_count": 96,
   "metadata": {},
   "outputs": [
    {
     "data": {
      "text/plain": [
       "[('0', ['C']),\n",
       " ('1', ['A', 'A', 'B', 'D', 'E', 'E']),\n",
       " ('2', ['A', 'D', 'E']),\n",
       " ('3', ['A', 'B', 'D', 'E', 'E']),\n",
       " ('4', ['B', 'E']),\n",
       " ('5', ['B', 'C', 'D', 'D', 'E', 'E', 'E']),\n",
       " ('6', ['A', 'B', 'C', 'E']),\n",
       " ('7', ['A', 'C', 'D', 'E']),\n",
       " ('8', ['A', 'B', 'E', 'E']),\n",
       " ('9', ['A', 'B', 'C', 'E'])]"
      ]
     },
     "execution_count": 96,
     "metadata": {},
     "output_type": "execute_result"
    }
   ],
   "source": [
    "import re\n",
    "ListaDeArchivos = []\n",
    "Archivo = open('data.txt', 'r')\n",
    "PatronDeRemplazoValoresConComa = re.compile(r'(\\d),')\n",
    "ArchivoEnMemoria = (Archivo.readlines())\n",
    "Archivo.close()\n",
    "ArchivoEnMemoria = [linea.replace(\"\\t\", \" \") for linea in ArchivoEnMemoria]\n",
    "ArchivoEnMemoria = [linea.replace(\":\", \" \") for linea in ArchivoEnMemoria]\n",
    "ArchivoEnMemoria = [linea[:-1] for linea in ArchivoEnMemoria]\n",
    "ArchivoEnMemoria = [PatronDeRemplazoValoresConComa.sub(r\"\\1 \", linea) for linea in ArchivoEnMemoria]\n",
    "ArchivoEnMemoria = [linea.split(' ') for linea  in ArchivoEnMemoria]\n",
    "ValorSegundaColumna = [Registro[1] for Registro in ArchivoEnMemoria]\n",
    "ValoresUnicos = set([Registro for Registro in ValorSegundaColumna]) \n",
    "ListaDeValoresPorRegistro = {Valor:[] for Valor in ValoresUnicos}\n",
    "for Fila in ArchivoEnMemoria:\n",
    "    ListaDeValoresPorRegistro.get(Fila[1], \"\").append(Fila[0])\n",
    "for Lista in ListaDeValoresPorRegistro:\n",
    "     ListaDeValoresPorRegistro.get(Lista).sort()\n",
    "Resultado = [(key,ListaDeValoresPorRegistro[key])for key  in ListaDeValoresPorRegistro]\n",
    "Resultado =  sorted(Resultado, key = operator.itemgetter(0))\n",
    "Resultado"
   ]
  },
  {
   "cell_type": "markdown",
   "metadata": {},
   "source": [
    "## Problema 10\n",
    "\n",
    "Calcule la cantidad de registros por clave de la columna 5. En otras palabras, ¿cuántos registros hay que tengan la clave `aaa`? Esto es:\n",
    "\n",
    "    [('jjj', 18),\n",
    "     ('ccc', 23),\n",
    "     ('aaa', 13),\n",
    "     ('iii', 18),\n",
    "     ('eee', 15),\n",
    "     ('bbb', 16),\n",
    "     ('ddd', 23),\n",
    "     ('ggg', 13),\n",
    "     ('hhh', 16),\n",
    "     ('fff', 20)]"
   ]
  },
  {
   "cell_type": "code",
   "execution_count": 111,
   "metadata": {},
   "outputs": [
    {
     "data": {
      "text/plain": [
       "[('iii', 18),\n",
       " ('ccc', 23),\n",
       " ('eee', 15),\n",
       " ('fff', 20),\n",
       " ('jjj', 18),\n",
       " ('bbb', 16),\n",
       " ('ddd', 23),\n",
       " ('hhh', 16),\n",
       " ('aaa', 13),\n",
       " ('ggg', 13)]"
      ]
     },
     "execution_count": 111,
     "metadata": {},
     "output_type": "execute_result"
    }
   ],
   "source": [
    "import re\n",
    "ListaDeArchivos = []\n",
    "Archivo = open('data.txt', 'r')\n",
    "PatronDeRemplazoValoresConComa = re.compile(r'(\\d),')\n",
    "ArchivoEnMemoria = (Archivo.readlines())\n",
    "Archivo.close()\n",
    "ArchivoEnMemoria = [linea.replace(\"\\t\", \" \") for linea in ArchivoEnMemoria]\n",
    "ArchivoEnMemoria = [linea.replace(\":\", \" \") for linea in ArchivoEnMemoria]\n",
    "ArchivoEnMemoria = [linea[:-1] for linea in ArchivoEnMemoria]\n",
    "ArchivoEnMemoria = [PatronDeRemplazoValoresConComa.sub(r\"\\1 \", linea) for linea in ArchivoEnMemoria]\n",
    "ArchivoEnMemoria = [linea.split(' ') for linea  in ArchivoEnMemoria]\n",
    "CadenasTresLetras = [ (Registro[4])  for Registro in ArchivoEnMemoria]\n",
    "LetrasUnicas = set(Registro for Registro in CadenasTresLetras) \n",
    "ListaDeValoresPorLetra = {Letra:[] for Letra in LetrasUnicas}\n",
    "for LetraComprobar in LetrasUnicas:\n",
    "    for Fila in ArchivoEnMemoria:\n",
    "        for ElementoEnFila in Fila:\n",
    "            if  ElementoEnFila == LetraComprobar:\n",
    "                ListaDeValoresPorLetra.get(LetraComprobar, \"\").append(ElementoEnFila)\n",
    "Resultado = [(key,ListaDeValoresPorLetra.get(key).count(key))for key  in ListaDeValoresPorLetra]\n",
    "Resultado"
   ]
  },
  {
   "cell_type": "markdown",
   "metadata": {},
   "source": [
    "## Problema 11\n",
    "\n",
    "Genere una tabla que contenga la primera columna, la cantidad de elementos en la columna 4 y la cantidad de elementos en la columna 5. La columna 5 es una lista de claves y valores separados por comas.\n",
    "\n",
    "     [['E', 3, 5], ['A', 3, 4], ['B', 4, 4], ['A', 2, 4], ['C', 4, 4],\n",
    "      ['A', 2, 5], ['A', 3, 6], ['B', 2, 3], ['E', 4, 6], ['B', 4, 6],\n",
    "      ['C', 4, 5], ['C', 4, 3], ['D', 4, 5], ['E', 2, 3], ['B', 2, 5],\n",
    "      ['D', 2, 4], ['E', 3, 6], ['D', 2, 3], ['E', 4, 3], ['E', 2, 3],\n",
    "      ['E', 2, 3], ['E', 3, 3], ['D', 3, 3], ['A', 3, 5], ['E', 2, 6],\n",
    "      ['E', 3, 6], ['A', 3, 3], ['E', 3, 5], ['A', 2, 5], ['C', 4, 6],\n",
    "      ['A', 2, 5], ['D', 2, 6], ['E', 2, 4], ['B', 3, 6], ['B', 3, 5],\n",
    "      ['D', 2, 3], ['B', 2, 5], ['C', 4, 3], ['E', 2, 3], ['E', 3, 3]]"
   ]
  },
  {
   "cell_type": "code",
   "execution_count": 126,
   "metadata": {},
   "outputs": [
    {
     "data": {
      "text/plain": [
       "[['E', 3, 5],\n",
       " ['A', 3, 4],\n",
       " ['B', 4, 4],\n",
       " ['A', 2, 4],\n",
       " ['C', 4, 4],\n",
       " ['A', 2, 5],\n",
       " ['A', 3, 6],\n",
       " ['B', 2, 3],\n",
       " ['E', 4, 6],\n",
       " ['B', 4, 6],\n",
       " ['C', 4, 5],\n",
       " ['C', 4, 3],\n",
       " ['D', 4, 5],\n",
       " ['E', 2, 3],\n",
       " ['B', 2, 5],\n",
       " ['D', 2, 4],\n",
       " ['E', 3, 6],\n",
       " ['D', 2, 3],\n",
       " ['E', 4, 3],\n",
       " ['E', 2, 3],\n",
       " ['E', 2, 3],\n",
       " ['E', 3, 3],\n",
       " ['D', 3, 3],\n",
       " ['A', 3, 5],\n",
       " ['E', 2, 6],\n",
       " ['E', 3, 6],\n",
       " ['A', 3, 3],\n",
       " ['E', 3, 5],\n",
       " ['A', 2, 5],\n",
       " ['C', 4, 6],\n",
       " ['A', 2, 5],\n",
       " ['D', 2, 6],\n",
       " ['E', 2, 4],\n",
       " ['B', 3, 6],\n",
       " ['B', 3, 5],\n",
       " ['D', 2, 3],\n",
       " ['B', 2, 5],\n",
       " ['C', 4, 3],\n",
       " ['E', 2, 3],\n",
       " ['E', 3, 3]]"
      ]
     },
     "execution_count": 126,
     "metadata": {},
     "output_type": "execute_result"
    }
   ],
   "source": [
    "import re\n",
    "ListaDeArchivos = []\n",
    "Archivo = open('data.txt', 'r')\n",
    "PatronDeRemplazoValoresConComa = re.compile(r'(\\d),')\n",
    "ArchivoEnMemoria = (Archivo.readlines())\n",
    "Archivo.close()\n",
    "ArchivoEnMemoria = [linea.replace(\"\\t\", \" \") for linea in ArchivoEnMemoria]\n",
    "ArchivoEnMemoria = [linea[:-1] for linea in ArchivoEnMemoria]\n",
    "ArchivoEnMemoria = [PatronDeRemplazoValoresConComa.sub(r\"\\1 \", linea) for linea in ArchivoEnMemoria]\n",
    "ArchivoEnMemoria = [linea.split(' ') for linea  in ArchivoEnMemoria]\n",
    "Resultado = [[Letra[0],len(Letra[3].split(\",\")),len(Letra[4:])] for Letra in ArchivoEnMemoria]\n",
    "Resultado"
   ]
  },
  {
   "cell_type": "markdown",
   "metadata": {},
   "source": [
    "## Problema 12\n",
    "\n",
    "Calcule la suma de la segunda columna por cada letra de la primera columna."
   ]
  },
  {
   "cell_type": "code",
   "execution_count": 131,
   "metadata": {},
   "outputs": [
    {
     "data": {
      "text/plain": [
       "[('D', 23), ('B', 36), ('E', 67), ('A', 37), ('C', 27)]"
      ]
     },
     "execution_count": 131,
     "metadata": {},
     "output_type": "execute_result"
    }
   ],
   "source": [
    "def Suma(List):\n",
    "    suma = 0\n",
    "    for elemento in List:\n",
    "        suma+= int(elemento)\n",
    "    return suma\n",
    "import re\n",
    "ListaDeArchivos = []\n",
    "Archivo = open('data.txt', 'r')\n",
    "PatronDeRemplazoValoresConComa = re.compile(r'(\\d),')\n",
    "ArchivoEnMemoria = (Archivo.readlines())\n",
    "Archivo.close()\n",
    "ArchivoEnMemoria = [linea.replace(\"\\t\", \" \") for linea in ArchivoEnMemoria]\n",
    "ArchivoEnMemoria = [linea.replace(\":\", \" \") for linea in ArchivoEnMemoria]\n",
    "ArchivoEnMemoria = [linea[:-1] for linea in ArchivoEnMemoria]\n",
    "ArchivoEnMemoria = [PatronDeRemplazoValoresConComa.sub(r\"\\1 \", linea) for linea in ArchivoEnMemoria]\n",
    "ArchivoEnMemoria = [linea.split(' ') for linea  in ArchivoEnMemoria]\n",
    "Letras = [Registro[0] for Registro in ArchivoEnMemoria]\n",
    "LetrasUnicas = set([Registro[0] for Registro in ArchivoEnMemoria]) \n",
    "ListaDeValoresPorLetra = {Letra:[] for Letra in LetrasUnicas}\n",
    "for Fila in ArchivoEnMemoria:\n",
    "    ListaDeValoresPorLetra.get(Fila[0], \"\").append(Fila[1])\n",
    "Resultado = [(key,Suma(ListaDeValoresPorLetra.get(key,\"\")))    for key  in ListaDeValoresPorLetra]\n",
    "Resultado"
   ]
  },
  {
   "cell_type": "markdown",
   "metadata": {},
   "source": [
    "## Problema 14\n",
    "\n",
    "Calcule la suma de la columna 2 por cada letra de la columna 4 (letras en minúscula)."
   ]
  },
  {
   "cell_type": "code",
   "execution_count": 154,
   "metadata": {},
   "outputs": [
    {
     "data": {
      "text/plain": [
       "[('d', 65), ('b', 40), ('f', 110), ('a', 114), ('c', 91), ('g', 35), ('e', 79)]"
      ]
     },
     "execution_count": 154,
     "metadata": {},
     "output_type": "execute_result"
    }
   ],
   "source": [
    "def Suma(List):\n",
    "    suma = 0\n",
    "    for elemento in List:\n",
    "        suma+= int(elemento)\n",
    "    return suma\n",
    "import re\n",
    "ListaDeArchivos = []\n",
    "Archivo = open('data.txt', 'r')\n",
    "PatronDeRemplazoValoresConComa = re.compile(r'(\\d),')\n",
    "ArchivoEnMemoria = (Archivo.readlines())\n",
    "Archivo.close()\n",
    "ArchivoEnMemoria = [linea.replace(\"\\t\", \" \") for linea in ArchivoEnMemoria]\n",
    "ArchivoEnMemoria = [linea.replace(\":\", \" \") for linea in ArchivoEnMemoria]\n",
    "ArchivoEnMemoria = [linea[:-1] for linea in ArchivoEnMemoria]\n",
    "ArchivoEnMemoria = [PatronDeRemplazoValoresConComa.sub(r\"\\1 \", linea) for linea in ArchivoEnMemoria]\n",
    "ArchivoEnMemoria = [linea.split(' ') for linea  in ArchivoEnMemoria]\n",
    "LetrasColumna4 = [line[3].split(\",\") for line in ArchivoEnMemoria]\n",
    "LetrasColumna4 = [letra  for registro in LetrasColumna4 for letra in registro]\n",
    "LetrasUnicas = set([Registro for Registro in LetrasColumna4]) \n",
    "ListaDeValoresPorLetra = {Letra:[] for Letra in LetrasUnicas}\n",
    "for Fila in ArchivoEnMemoria:\n",
    "    for letra in Fila[3].split(\",\"):\n",
    "        ListaDeValoresPorLetra.get(letra).append(Fila[1]) \n",
    "Resultado = [(key,Suma(ListaDeValoresPorLetra.get(key,\"\")))    for key  in ListaDeValoresPorLetra]\n",
    "Resultado"
   ]
  },
  {
   "cell_type": "markdown",
   "metadata": {},
   "source": [
    "## Problema 15\n",
    "\n",
    "Construya una lista de tuplas que tengan el texto de la columna 5 y la suma de los valores asociados, computada sobre todo el conjunto de datos."
   ]
  },
  {
   "cell_type": "code",
   "execution_count": 175,
   "metadata": {},
   "outputs": [
    {
     "data": {
      "text/plain": [
       "[('iii', 86),\n",
       " ('ccc', 72),\n",
       " ('eee', 55),\n",
       " ('fff', 94),\n",
       " ('jjj', 67),\n",
       " ('bbb', 82),\n",
       " ('ddd', 98),\n",
       " ('hhh', 80),\n",
       " ('aaa', 53),\n",
       " ('ggg', 61)]"
      ]
     },
     "execution_count": 175,
     "metadata": {},
     "output_type": "execute_result"
    }
   ],
   "source": [
    "import re\n",
    "def Suma(List):\n",
    "    suma = 0\n",
    "    for elemento in List:\n",
    "        suma+= int(elemento)\n",
    "    return suma\n",
    "ListaDeArchivos = []\n",
    "Archivo = open('data.txt', 'r')\n",
    "PatronDeRemplazoValoresConComa = re.compile(r'(\\d),')\n",
    "ArchivoEnMemoria = (Archivo.readlines())\n",
    "Archivo.close()\n",
    "ArchivoEnMemoria = [linea.replace(\"\\t\", \" \") for linea in ArchivoEnMemoria]\n",
    "ArchivoEnMemoria = [linea[:-1] for linea in ArchivoEnMemoria]\n",
    "ArchivoEnMemoria = [linea.split(' ') for linea  in ArchivoEnMemoria]\n",
    "ValoresColumna5 = [ (Registro[4]).split(\",\")  for Registro in ArchivoEnMemoria]\n",
    "ValoresColuman5Tuplas = [(linea.split(\":\")) for Fila in ValoresColumna5 for linea in Fila]\n",
    "LetrasUnicas = set(Registro[0] for Registro in ValoresColuman5Tuplas) \n",
    "ListaDeValoresPorLetra = {Letra:[] for Letra in LetrasUnicas}\n",
    "for Tupla in ValoresColuman5Tuplas:\n",
    "        ListaDeValoresPorLetra.get(Tupla[0]).append(Tupla[1])\n",
    "Resultado = [(key,Suma(ListaDeValoresPorLetra.get(key,\"\")))    for key  in ListaDeValoresPorLetra]\n",
    "Resultado"
   ]
  },
  {
   "cell_type": "markdown",
   "metadata": {},
   "source": [
    "---"
   ]
  }
 ],
 "metadata": {
  "kernelspec": {
   "display_name": "Python 3",
   "language": "python",
   "name": "python3"
  },
  "language_info": {
   "codemirror_mode": {
    "name": "ipython",
    "version": 3
   },
   "file_extension": ".py",
   "mimetype": "text/x-python",
   "name": "python",
   "nbconvert_exporter": "python",
   "pygments_lexer": "ipython3",
   "version": "3.6.7"
  }
 },
 "nbformat": 4,
 "nbformat_minor": 2
}
